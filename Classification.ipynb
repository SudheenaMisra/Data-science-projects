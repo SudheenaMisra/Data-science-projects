{
  "nbformat": 4,
  "nbformat_minor": 0,
  "metadata": {
    "colab": {
      "name": "CE802_P2_Notebook.ipynb",
      "provenance": [],
      "authorship_tag": "ABX9TyMnGoGP2WeQFX2MA0/GxyiU",
      "include_colab_link": true
    },
    "kernelspec": {
      "name": "python3",
      "display_name": "Python 3"
    },
    "language_info": {
      "name": "python"
    }
  },
  "cells": [
    {
      "cell_type": "markdown",
      "metadata": {
        "id": "view-in-github",
        "colab_type": "text"
      },
      "source": [
        "<a href=\"https://colab.research.google.com/github/SudheenaMisra/Data-science_CourseWork/blob/main/Classification.ipynb\" target=\"_parent\"><img src=\"https://colab.research.google.com/assets/colab-badge.svg\" alt=\"Open In Colab\"/></a>"
      ]
    },
    {
      "cell_type": "code",
      "metadata": {
        "id": "MN3wz7J7ALOF"
      },
      "source": [
        "# importing the required libraries\n",
        "import numpy as np\n",
        "import pandas as pd\n",
        "import matplotlib.pyplot as plt\n",
        "import seaborn as sns\n",
        "from sklearn.metrics import mean_squared_error\n",
        "from sklearn.model_selection import cross_val_score\n",
        "from collections import Counter\n",
        "from IPython.core.display import display, HTML\n",
        "sns.set_style('darkgrid')\n",
        "\n"
      ],
      "execution_count": null,
      "outputs": []
    },
    {
      "cell_type": "code",
      "metadata": {
        "colab": {
          "base_uri": "https://localhost:8080/",
          "height": 205
        },
        "id": "6U6GyFvNASEI",
        "outputId": "574ff1d8-73c1-4080-911e-3028cee9006b"
      },
      "source": [
        "# reading the data \n",
        "data= pd.read_csv('https://raw.githubusercontent.com/SudheenaMisra/Datasets/main/CE802/CE802_P2_Data.csv')\n",
        "#inspecting the first 5 rows \n",
        "data.head()"
      ],
      "execution_count": null,
      "outputs": [
        {
          "output_type": "execute_result",
          "data": {
            "text/html": [
              "<div>\n",
              "<style scoped>\n",
              "    .dataframe tbody tr th:only-of-type {\n",
              "        vertical-align: middle;\n",
              "    }\n",
              "\n",
              "    .dataframe tbody tr th {\n",
              "        vertical-align: top;\n",
              "    }\n",
              "\n",
              "    .dataframe thead th {\n",
              "        text-align: right;\n",
              "    }\n",
              "</style>\n",
              "<table border=\"1\" class=\"dataframe\">\n",
              "  <thead>\n",
              "    <tr style=\"text-align: right;\">\n",
              "      <th></th>\n",
              "      <th>F1</th>\n",
              "      <th>F2</th>\n",
              "      <th>F3</th>\n",
              "      <th>F4</th>\n",
              "      <th>F5</th>\n",
              "      <th>F6</th>\n",
              "      <th>F7</th>\n",
              "      <th>F8</th>\n",
              "      <th>F9</th>\n",
              "      <th>F10</th>\n",
              "      <th>F11</th>\n",
              "      <th>F12</th>\n",
              "      <th>F13</th>\n",
              "      <th>F14</th>\n",
              "      <th>F15</th>\n",
              "      <th>Class</th>\n",
              "    </tr>\n",
              "  </thead>\n",
              "  <tbody>\n",
              "    <tr>\n",
              "      <th>0</th>\n",
              "      <td>3.20</td>\n",
              "      <td>-4.91</td>\n",
              "      <td>-41.64</td>\n",
              "      <td>-21.63</td>\n",
              "      <td>8.41</td>\n",
              "      <td>2</td>\n",
              "      <td>5.42</td>\n",
              "      <td>-84.01</td>\n",
              "      <td>-9.40</td>\n",
              "      <td>76.72</td>\n",
              "      <td>-0.42</td>\n",
              "      <td>36</td>\n",
              "      <td>0.33</td>\n",
              "      <td>30.60</td>\n",
              "      <td>NaN</td>\n",
              "      <td>False</td>\n",
              "    </tr>\n",
              "    <tr>\n",
              "      <th>1</th>\n",
              "      <td>3.98</td>\n",
              "      <td>-5.25</td>\n",
              "      <td>-47.64</td>\n",
              "      <td>-23.43</td>\n",
              "      <td>8.66</td>\n",
              "      <td>2</td>\n",
              "      <td>4.32</td>\n",
              "      <td>-83.01</td>\n",
              "      <td>-11.16</td>\n",
              "      <td>2.72</td>\n",
              "      <td>0.50</td>\n",
              "      <td>111</td>\n",
              "      <td>0.84</td>\n",
              "      <td>39.42</td>\n",
              "      <td>9.26</td>\n",
              "      <td>True</td>\n",
              "    </tr>\n",
              "    <tr>\n",
              "      <th>2</th>\n",
              "      <td>12.60</td>\n",
              "      <td>0.41</td>\n",
              "      <td>-50.64</td>\n",
              "      <td>-15.51</td>\n",
              "      <td>16.34</td>\n",
              "      <td>20</td>\n",
              "      <td>-4.00</td>\n",
              "      <td>25.99</td>\n",
              "      <td>-15.08</td>\n",
              "      <td>450.72</td>\n",
              "      <td>-3.60</td>\n",
              "      <td>525</td>\n",
              "      <td>5.10</td>\n",
              "      <td>21.78</td>\n",
              "      <td>NaN</td>\n",
              "      <td>False</td>\n",
              "    </tr>\n",
              "    <tr>\n",
              "      <th>3</th>\n",
              "      <td>14.70</td>\n",
              "      <td>1.09</td>\n",
              "      <td>-50.64</td>\n",
              "      <td>-4.74</td>\n",
              "      <td>15.09</td>\n",
              "      <td>20</td>\n",
              "      <td>-8.16</td>\n",
              "      <td>10.99</td>\n",
              "      <td>-13.12</td>\n",
              "      <td>190.72</td>\n",
              "      <td>-5.71</td>\n",
              "      <td>660</td>\n",
              "      <td>7.25</td>\n",
              "      <td>15.78</td>\n",
              "      <td>6.57</td>\n",
              "      <td>False</td>\n",
              "    </tr>\n",
              "    <tr>\n",
              "      <th>4</th>\n",
              "      <td>2.74</td>\n",
              "      <td>-3.86</td>\n",
              "      <td>-35.64</td>\n",
              "      <td>-23.91</td>\n",
              "      <td>8.67</td>\n",
              "      <td>2</td>\n",
              "      <td>2.80</td>\n",
              "      <td>-53.01</td>\n",
              "      <td>-19.22</td>\n",
              "      <td>24.72</td>\n",
              "      <td>0.59</td>\n",
              "      <td>33</td>\n",
              "      <td>0.85</td>\n",
              "      <td>25.08</td>\n",
              "      <td>NaN</td>\n",
              "      <td>True</td>\n",
              "    </tr>\n",
              "  </tbody>\n",
              "</table>\n",
              "</div>"
            ],
            "text/plain": [
              "      F1    F2     F3     F4     F5  F6  ...   F11  F12   F13    F14   F15  Class\n",
              "0   3.20 -4.91 -41.64 -21.63   8.41   2  ... -0.42   36  0.33  30.60   NaN  False\n",
              "1   3.98 -5.25 -47.64 -23.43   8.66   2  ...  0.50  111  0.84  39.42  9.26   True\n",
              "2  12.60  0.41 -50.64 -15.51  16.34  20  ... -3.60  525  5.10  21.78   NaN  False\n",
              "3  14.70  1.09 -50.64  -4.74  15.09  20  ... -5.71  660  7.25  15.78  6.57  False\n",
              "4   2.74 -3.86 -35.64 -23.91   8.67   2  ...  0.59   33  0.85  25.08   NaN   True\n",
              "\n",
              "[5 rows x 16 columns]"
            ]
          },
          "metadata": {
            "tags": []
          },
          "execution_count": 9
        }
      ]
    },
    {
      "cell_type": "markdown",
      "metadata": {
        "id": "WH_dche6A3-a"
      },
      "source": [
        "### Data Preprocessing and Visualization "
      ]
    },
    {
      "cell_type": "code",
      "metadata": {
        "colab": {
          "base_uri": "https://localhost:8080/",
          "height": 411
        },
        "id": "QTHt1GL5A_oh",
        "outputId": "775a601e-b72f-4d5a-9233-fad53e9c3033"
      },
      "source": [
        "#Correlation matrix\n",
        "corr = data.corr()\n",
        "#Plot figsize\n",
        "fig, ax = plt.subplots(figsize=(8,6))\n",
        "#Generate Heat Map, allow annotations and place floats in map\n",
        "sns.heatmap(corr, cmap='coolwarm', annot=True, fmt=\".2f\")\n",
        "#Apply xticks\n",
        "plt.xticks(range(len(corr.columns)), corr.columns);\n",
        "#Apply yticks\n",
        "plt.yticks(range(len(corr.columns)), corr.columns)\n",
        "#show plot\n",
        "plt.show()\n",
        "plt.savefig(\"corr.pdf\", dpi=2000)"
      ],
      "execution_count": null,
      "outputs": [
        {
          "output_type": "display_data",
          "data": {
            "image/png": "[encoded data removed]",
            "text/plain": [
              "<Figure size 576x432 with 2 Axes>"
            ]
          },
          "metadata": {
            "tags": []
          }
        },
        {
          "output_type": "display_data",
          "data": {
            "text/plain": [
              "<Figure size 432x288 with 0 Axes>"
            ]
          },
          "metadata": {
            "tags": []
          }
        }
      ]
    },
    {
      "cell_type": "code",
      "metadata": {
        "colab": {
          "base_uri": "https://localhost:8080/"
        },
        "id": "VOomHHHYGvYp",
        "outputId": "7a5823db-c899-4729-cd78-a8998bf2dcbf"
      },
      "source": [
        "data.dtypes\n"
      ],
      "execution_count": null,
      "outputs": [
        {
          "output_type": "execute_result",
          "data": {
            "text/plain": [
              "F1       float64\n",
              "F2       float64\n",
              "F3       float64\n",
              "F4       float64\n",
              "F5       float64\n",
              "F6         int64\n",
              "F7       float64\n",
              "F8       float64\n",
              "F9       float64\n",
              "F10      float64\n",
              "F11      float64\n",
              "F12        int64\n",
              "F13      float64\n",
              "F14      float64\n",
              "F15      float64\n",
              "Class       bool\n",
              "dtype: object"
            ]
          },
          "metadata": {
            "tags": []
          },
          "execution_count": 4
        }
      ]
    },
    {
      "cell_type": "code",
      "metadata": {
        "colab": {
          "base_uri": "https://localhost:8080/"
        },
        "id": "g5nZujixLyYZ",
        "outputId": "298cd48d-eff1-4be0-ed5f-1b55d6a0e66a"
      },
      "source": [
        "data.isna().sum()"
      ],
      "execution_count": null,
      "outputs": [
        {
          "output_type": "execute_result",
          "data": {
            "text/plain": [
              "F1         0\n",
              "F2         0\n",
              "F3         0\n",
              "F4         0\n",
              "F5         0\n",
              "F6         0\n",
              "F7         0\n",
              "F8         0\n",
              "F9         0\n",
              "F10        0\n",
              "F11        0\n",
              "F12        0\n",
              "F13        0\n",
              "F14        0\n",
              "F15      750\n",
              "Class      0\n",
              "dtype: int64"
            ]
          },
          "metadata": {
            "tags": []
          },
          "execution_count": 5
        }
      ]
    },
    {
      "cell_type": "code",
      "metadata": {
        "colab": {
          "base_uri": "https://localhost:8080/"
        },
        "id": "PwD8VHBbMM_0",
        "outputId": "a792df1b-d2fd-4889-846e-9821fda35ce5"
      },
      "source": [
        "data.shape"
      ],
      "execution_count": null,
      "outputs": [
        {
          "output_type": "execute_result",
          "data": {
            "text/plain": [
              "(1500, 16)"
            ]
          },
          "metadata": {
            "tags": []
          },
          "execution_count": 6
        }
      ]
    },
    {
      "cell_type": "code",
      "metadata": {
        "id": "IV3p_HaIMkUi"
      },
      "source": [
        "#the feature f15 has half of the values missing so we choose to drop this column\n",
        "data.drop(\"F15\", axis=1, inplace=True)"
      ],
      "execution_count": null,
      "outputs": []
    },
    {
      "cell_type": "markdown",
      "metadata": {
        "id": "li_Zdp_US0Kh"
      },
      "source": [
        "Here our features are columns F1,F2,....F14 and target variable is the \"class\" column"
      ]
    },
    {
      "cell_type": "code",
      "metadata": {
        "colab": {
          "base_uri": "https://localhost:8080/"
        },
        "id": "HLqIft3uI3Ad",
        "outputId": "66efd8b3-3f2c-4ce4-b6c9-847fc8e33428"
      },
      "source": [
        "#Assigning all features to x and target to y\n",
        "x = data.loc[:, data.columns != 'Class'].to_numpy()\n",
        "y = data.loc[:, 'Class'].to_numpy()\n",
        "print(x.shape, y.shape)"
      ],
      "execution_count": null,
      "outputs": [
        {
          "output_type": "stream",
          "text": [
            "(1500, 14) (1500,)\n"
          ],
          "name": "stdout"
        }
      ]
    },
    {
      "cell_type": "markdown",
      "metadata": {
        "id": "wTH89zyHSFbf"
      },
      "source": [
        "##### False predictors\n",
        "In some ocassions we may have a variable that is a false predictor, meaning that it's been introduced in the data by mistake and contains information about the label. Let's imagine that we have a dataset of the clients of a bank, and we want to predict if a client will buy an insurance. One of the variables could be how much the client pays to the bank for its services. If this prize includes the cost of the insurance, this will result in a variable that may have 'perfect' prediction power but won't work during the deployment because we will detect only the clients that already have an insurance."
      ]
    },
    {
      "cell_type": "code",
      "metadata": {
        "colab": {
          "base_uri": "https://localhost:8080/",
          "height": 255
        },
        "id": "NZtLzFGXJCET",
        "outputId": "7074cff9-e921-4783-ae81-66b1fc638799"
      },
      "source": [
        "import matplotlib.pyplot as plt\n",
        "\n",
        "plt.figure(figsize=(8,6))\n",
        "for i in range(x.shape[1]):\n",
        "    plt.subplot(5, 5, i+1)\n",
        "    plt.scatter(y,x[:,i])\n",
        "    plt.xticks([0, 1])\n",
        "    plt.title(data.columns[i])"
      ],
      "execution_count": null,
      "outputs": [
        {
          "output_type": "display_data",
          "data": {
            "image/png": "[encoded data removed]",
            "text/plain": [
              "<Figure size 576x432 with 14 Axes>"
            ]
          },
          "metadata": {
            "tags": [],
            "needs_background": "light"
          }
        }
      ]
    },
    {
      "cell_type": "code",
      "metadata": {
        "id": "L91ZbMm1KOar"
      },
      "source": [
        "# Splitting the dataset into the Training set and Test set\n",
        "from sklearn.model_selection import train_test_split\n",
        "X_train, X_test, y_train, y_test = train_test_split(x, y, test_size = 0.25, random_state = 42)"
      ],
      "execution_count": null,
      "outputs": []
    },
    {
      "cell_type": "code",
      "metadata": {
        "colab": {
          "base_uri": "https://localhost:8080/"
        },
        "id": "BYHAGJGdKvQy",
        "outputId": "675e20ed-d566-4552-d6c2-ad964b897e01"
      },
      "source": [
        "#printing the shapes\n",
        "print(\"Shape of X_train: \",X_train.shape)\n",
        "print(\"Shape of X_test: \", X_test.shape)\n",
        "print(\"Shape of y_train: \",y_train.shape)\n",
        "print(\"Shape of y_test\",y_test.shape)"
      ],
      "execution_count": null,
      "outputs": [
        {
          "output_type": "stream",
          "text": [
            "Shape of X_train:  (1125, 14)\n",
            "Shape of X_test:  (375, 14)\n",
            "Shape of y_train:  (1125,)\n",
            "Shape of y_test (375,)\n"
          ],
          "name": "stdout"
        }
      ]
    },
    {
      "cell_type": "markdown",
      "metadata": {
        "id": "KVBmzjW0RnjZ"
      },
      "source": [
        "### Fitting a Decision tree classifier"
      ]
    },
    {
      "cell_type": "code",
      "metadata": {
        "id": "SH4v2GDzKzdr"
      },
      "source": [
        "from sklearn.preprocessing import StandardScaler\n",
        "from sklearn.pipeline import Pipeline\n",
        "from sklearn.model_selection import GridSearchCV\n",
        "# Fitting classifier to the Training set\n",
        "from sklearn.tree import DecisionTreeClassifier\n",
        "classifier_dt = DecisionTreeClassifier()\n",
        "\n",
        "steps = [\n",
        "    ('scalar', StandardScaler()),\n",
        "    ('model', DecisionTreeClassifier())\n",
        "]\n",
        "dt_pipe = Pipeline(steps)"
      ],
      "execution_count": null,
      "outputs": []
    },
    {
      "cell_type": "code",
      "metadata": {
        "colab": {
          "base_uri": "https://localhost:8080/"
        },
        "id": "lIoUQmcZLVr6",
        "outputId": "68d46860-00a8-4fd1-acbb-0a8aca427b92"
      },
      "source": [
        "# Applying Grid Search to find the best model and the best parameters\n",
        "parameters = [ { \"model__max_depth\": np.arange(1,21),\n",
        "                 \"model__min_samples_leaf\": [1, 5, 10, 20, 50, 100],\n",
        "                 \"model__min_samples_split\": np.arange(2, 11),\n",
        "                 \"model__criterion\": [\"gini\"],\n",
        "                 \"model__random_state\" : [42]}\n",
        "            ]\n",
        "classifier_dt = GridSearchCV(estimator = dt_pipe,\n",
        "                           param_grid  = parameters,\n",
        "                           cv = 3,\n",
        "                           iid = False,\n",
        "                           n_jobs = -1)\n",
        "classifier_dt = classifier_dt.fit(X_train, y_train.ravel())"
      ],
      "execution_count": null,
      "outputs": [
        {
          "output_type": "stream",
          "text": [
            "/usr/local/lib/python3.7/dist-packages/sklearn/model_selection/_search.py:823: FutureWarning: The parameter 'iid' is deprecated in 0.22 and will be removed in 0.24.\n",
            "  \"removed in 0.24.\", FutureWarning\n"
          ],
          "name": "stderr"
        }
      ]
    },
    {
      "cell_type": "code",
      "metadata": {
        "colab": {
          "base_uri": "https://localhost:8080/"
        },
        "id": "kkHFWuCVONTU",
        "outputId": "748314b0-70bc-4ffb-dbe3-4b2721a2e859"
      },
      "source": [
        "#predicting the accuracy of training and test set \n",
        "from sklearn.metrics import accuracy_score\n",
        "y_pred_dt_train = classifier_dt.predict(X_train)\n",
        "accuracy_dt_train = accuracy_score(y_train, y_pred_dt_train)\n",
        "print(\"Training set: \", accuracy_dt_train)\n",
        "\n",
        "y_pred_dt_test = classifier_dt.predict(X_test)\n",
        "accuracy_dt_test = accuracy_score(y_test, y_pred_dt_test)\n",
        "print(\"Test set: \", accuracy_dt_test)"
      ],
      "execution_count": null,
      "outputs": [
        {
          "output_type": "stream",
          "text": [
            "Training set:  0.9893333333333333\n",
            "Test set:  0.7626666666666667\n"
          ],
          "name": "stdout"
        }
      ]
    },
    {
      "cell_type": "code",
      "metadata": {
        "colab": {
          "base_uri": "https://localhost:8080/",
          "height": 265
        },
        "id": "57b_JfrqQ0c_",
        "outputId": "4507ce14-ea9d-47cf-ac7e-257191c13224"
      },
      "source": [
        "#confusion matrix\n",
        "from sklearn.metrics import confusion_matrix\n",
        "sns.heatmap(confusion_matrix(y_test, y_pred_dt_test), annot=True, cmap = 'viridis', fmt='.0f')\n",
        "plt.show()"
      ],
      "execution_count": null,
      "outputs": [
        {
          "output_type": "display_data",
          "data": {
            "image/png": "[encoded data removed]",
            "text/plain": [
              "<Figure size 432x288 with 2 Axes>"
            ]
          },
          "metadata": {
            "tags": [],
            "needs_background": "light"
          }
        }
      ]
    },
    {
      "cell_type": "markdown",
      "metadata": {
        "id": "hMbii3w9TPJ2"
      },
      "source": [
        "### Fitting a Naive Bayes Classifier"
      ]
    },
    {
      "cell_type": "code",
      "metadata": {
        "colab": {
          "base_uri": "https://localhost:8080/"
        },
        "id": "o_4W3cneTOju",
        "outputId": "a287aa53-d284-43aa-de7d-e3b51581f348"
      },
      "source": [
        "# Fitting classifier to the Training set\n",
        "from sklearn.naive_bayes import GaussianNB\n",
        "classifier_nb = GaussianNB()\n",
        "classifier_nb.fit(X_train, y_train.ravel())"
      ],
      "execution_count": null,
      "outputs": [
        {
          "output_type": "execute_result",
          "data": {
            "text/plain": [
              "GaussianNB(priors=None, var_smoothing=1e-09)"
            ]
          },
          "metadata": {
            "tags": []
          },
          "execution_count": 16
        }
      ]
    },
    {
      "cell_type": "code",
      "metadata": {
        "colab": {
          "base_uri": "https://localhost:8080/"
        },
        "id": "76lFt-cKTjSd",
        "outputId": "174e9b71-e4dc-437a-d366-e791a0d6607e"
      },
      "source": [
        "y_pred_nb_train = classifier_nb.predict(X_train)\n",
        "accuracy_nb_train = accuracy_score(y_train, y_pred_nb_train)\n",
        "print(\"Training set: \", accuracy_nb_train)\n",
        "\n",
        "y_pred_nb_test = classifier_nb.predict(X_test)\n",
        "accuracy_nb_test = accuracy_score(y_test, y_pred_nb_test)\n",
        "print(\"Test set: \", accuracy_nb_test)"
      ],
      "execution_count": null,
      "outputs": [
        {
          "output_type": "stream",
          "text": [
            "Training set:  0.6026666666666667\n",
            "Test set:  0.584\n"
          ],
          "name": "stdout"
        }
      ]
    },
    {
      "cell_type": "code",
      "metadata": {
        "colab": {
          "base_uri": "https://localhost:8080/",
          "height": 265
        },
        "id": "eXQqPB6GTqyk",
        "outputId": "7f3c95b6-33d8-4c04-9798-87b5caf236db"
      },
      "source": [
        "from sklearn.metrics import confusion_matrix\n",
        "sns.heatmap(confusion_matrix(y_test, y_pred_nb_test), annot=True, cmap = 'viridis', fmt='.0f')\n",
        "plt.show()"
      ],
      "execution_count": null,
      "outputs": [
        {
          "output_type": "display_data",
          "data": {
            "image/png": "[encoded data removed]",
            "text/plain": [
              "<Figure size 432x288 with 2 Axes>"
            ]
          },
          "metadata": {
            "tags": [],
            "needs_background": "light"
          }
        }
      ]
    },
    {
      "cell_type": "markdown",
      "metadata": {
        "id": "7NYK-HVdT1MU"
      },
      "source": [
        "### Fitting a Logistic Regression model"
      ]
    },
    {
      "cell_type": "code",
      "metadata": {
        "id": "OazwFt2yUWi9"
      },
      "source": [
        "# Fitting Logistic Regression to the Training set\n",
        "from sklearn.preprocessing import StandardScaler\n",
        "from sklearn.pipeline import Pipeline\n",
        "from sklearn.model_selection import GridSearchCV\n",
        "from sklearn.linear_model import LogisticRegression\n",
        "\n",
        "classifier_lr = LogisticRegression()\n",
        "steps = [\n",
        "    ('scalar', StandardScaler()),\n",
        "    ('model', LogisticRegression())\n",
        "]\n",
        "\n",
        "lr_pipe = Pipeline(steps)"
      ],
      "execution_count": null,
      "outputs": []
    },
    {
      "cell_type": "code",
      "metadata": {
        "colab": {
          "base_uri": "https://localhost:8080/"
        },
        "id": "BcZa8VanUetU",
        "outputId": "3f474b67-4a8f-494a-b6d5-3f9a9e57918d"
      },
      "source": [
        "parameters = { 'model__C' : [1,10,100,1000,10000],\n",
        "               'model__fit_intercept' : [True],\n",
        "               'model__multi_class' : ['auto'],\n",
        "               'model__tol' : [0.0001],\n",
        "               'model__solver' : ['newton-cg', 'lbfgs', 'sag', 'saga'],\n",
        "               'model__n_jobs' : [-1],\n",
        "               'model__max_iter' : [5000],\n",
        "               'model__random_state': [42] \n",
        "}\n",
        "classifier_lr = GridSearchCV(lr_pipe, parameters, iid=False, cv = 3)\n",
        "classifier_lr = classifier_lr.fit(X_train, y_train.ravel())"
      ],
      "execution_count": null,
      "outputs": [
        {
          "output_type": "stream",
          "text": [
            "/usr/local/lib/python3.7/dist-packages/sklearn/model_selection/_search.py:823: FutureWarning: The parameter 'iid' is deprecated in 0.22 and will be removed in 0.24.\n",
            "  \"removed in 0.24.\", FutureWarning\n"
          ],
          "name": "stderr"
        }
      ]
    },
    {
      "cell_type": "code",
      "metadata": {
        "colab": {
          "base_uri": "https://localhost:8080/"
        },
        "id": "o67O6maJUkrW",
        "outputId": "0263022f-0f66-404d-d625-edd9fe07a3d5"
      },
      "source": [
        "from sklearn.metrics import accuracy_score\n",
        "\n",
        "y_pred_lr_train = classifier_lr.predict(X_train)\n",
        "accuracy_lr_train = accuracy_score(y_train, y_pred_lr_train)\n",
        "print(\"Training set: \", accuracy_lr_train)\n",
        "\n",
        "y_pred_lr_test = classifier_lr.predict(X_test)\n",
        "accuracy_lr_test = accuracy_score(y_test, y_pred_lr_test)\n",
        "print(\"Test set: \", accuracy_lr_test)"
      ],
      "execution_count": null,
      "outputs": [
        {
          "output_type": "stream",
          "text": [
            "Training set:  0.856\n",
            "Test set:  0.84\n"
          ],
          "name": "stdout"
        }
      ]
    },
    {
      "cell_type": "code",
      "metadata": {
        "colab": {
          "base_uri": "https://localhost:8080/",
          "height": 265
        },
        "id": "BkG__4F-UueN",
        "outputId": "e7db8427-b9cd-4ad6-9c14-a7bf1544a4d3"
      },
      "source": [
        "from sklearn.metrics import confusion_matrix\n",
        "sns.heatmap(confusion_matrix(y_test, y_pred_lr_test), annot=True, cmap = 'viridis', fmt='.0f')\n",
        "plt.show()"
      ],
      "execution_count": null,
      "outputs": [
        {
          "output_type": "display_data",
          "data": {
            "image/png": "[encoded data removed]",
            "text/plain": [
              "<Figure size 432x288 with 2 Axes>"
            ]
          },
          "metadata": {
            "tags": [],
            "needs_background": "light"
          }
        }
      ]
    },
    {
      "cell_type": "markdown",
      "metadata": {
        "id": "LFkF5whFVh7A"
      },
      "source": [
        "For the 3 machine learning models used above logistic regression has got the high accuracy. So I may decide to apply this model on a real test data."
      ]
    },
    {
      "cell_type": "markdown",
      "metadata": {
        "id": "xoIQWPzFZa01"
      },
      "source": [
        "### Predicting the Class of New real test data using Logistic regression"
      ]
    },
    {
      "cell_type": "code",
      "metadata": {
        "colab": {
          "base_uri": "https://localhost:8080/",
          "height": 205
        },
        "id": "X4mDHvdpVzTs",
        "outputId": "dca649b5-cd0a-4366-8ec2-afbbd77aa92a"
      },
      "source": [
        "#reading the real test data\n",
        "Test_data = pd.read_csv(\"https://raw.githubusercontent.com/SudheenaMisra/Datasets/main/CE802/CE802_P2_Test.csv\")\n",
        "Test_data.head()"
      ],
      "execution_count": null,
      "outputs": [
        {
          "output_type": "execute_result",
          "data": {
            "text/html": [
              "<div>\n",
              "<style scoped>\n",
              "    .dataframe tbody tr th:only-of-type {\n",
              "        vertical-align: middle;\n",
              "    }\n",
              "\n",
              "    .dataframe tbody tr th {\n",
              "        vertical-align: top;\n",
              "    }\n",
              "\n",
              "    .dataframe thead th {\n",
              "        text-align: right;\n",
              "    }\n",
              "</style>\n",
              "<table border=\"1\" class=\"dataframe\">\n",
              "  <thead>\n",
              "    <tr style=\"text-align: right;\">\n",
              "      <th></th>\n",
              "      <th>F1</th>\n",
              "      <th>F2</th>\n",
              "      <th>F3</th>\n",
              "      <th>F4</th>\n",
              "      <th>F5</th>\n",
              "      <th>F6</th>\n",
              "      <th>F7</th>\n",
              "      <th>F8</th>\n",
              "      <th>F9</th>\n",
              "      <th>F10</th>\n",
              "      <th>F11</th>\n",
              "      <th>F12</th>\n",
              "      <th>F13</th>\n",
              "      <th>F14</th>\n",
              "      <th>F15</th>\n",
              "      <th>Class</th>\n",
              "    </tr>\n",
              "  </thead>\n",
              "  <tbody>\n",
              "    <tr>\n",
              "      <th>0</th>\n",
              "      <td>19.10</td>\n",
              "      <td>0.05</td>\n",
              "      <td>-50.64</td>\n",
              "      <td>-9.21</td>\n",
              "      <td>17.09</td>\n",
              "      <td>20</td>\n",
              "      <td>-7.08</td>\n",
              "      <td>-34.01</td>\n",
              "      <td>-11.32</td>\n",
              "      <td>310.72</td>\n",
              "      <td>-5.48</td>\n",
              "      <td>900</td>\n",
              "      <td>5.45</td>\n",
              "      <td>10.38</td>\n",
              "      <td>NaN</td>\n",
              "      <td>NaN</td>\n",
              "    </tr>\n",
              "    <tr>\n",
              "      <th>1</th>\n",
              "      <td>14.60</td>\n",
              "      <td>1.32</td>\n",
              "      <td>-50.64</td>\n",
              "      <td>-2.64</td>\n",
              "      <td>17.04</td>\n",
              "      <td>20</td>\n",
              "      <td>4.74</td>\n",
              "      <td>-64.01</td>\n",
              "      <td>-9.72</td>\n",
              "      <td>170.72</td>\n",
              "      <td>-6.28</td>\n",
              "      <td>585</td>\n",
              "      <td>7.20</td>\n",
              "      <td>13.14</td>\n",
              "      <td>NaN</td>\n",
              "      <td>NaN</td>\n",
              "    </tr>\n",
              "    <tr>\n",
              "      <th>2</th>\n",
              "      <td>12.00</td>\n",
              "      <td>0.29</td>\n",
              "      <td>-80.64</td>\n",
              "      <td>-3.90</td>\n",
              "      <td>15.64</td>\n",
              "      <td>20</td>\n",
              "      <td>-7.62</td>\n",
              "      <td>-39.01</td>\n",
              "      <td>-7.52</td>\n",
              "      <td>60.72</td>\n",
              "      <td>-4.79</td>\n",
              "      <td>45</td>\n",
              "      <td>5.05</td>\n",
              "      <td>13.38</td>\n",
              "      <td>7.33</td>\n",
              "      <td>NaN</td>\n",
              "    </tr>\n",
              "    <tr>\n",
              "      <th>3</th>\n",
              "      <td>2.00</td>\n",
              "      <td>-5.10</td>\n",
              "      <td>-47.64</td>\n",
              "      <td>-25.92</td>\n",
              "      <td>8.10</td>\n",
              "      <td>2</td>\n",
              "      <td>4.42</td>\n",
              "      <td>-82.01</td>\n",
              "      <td>-17.14</td>\n",
              "      <td>14.72</td>\n",
              "      <td>-0.33</td>\n",
              "      <td>174</td>\n",
              "      <td>0.95</td>\n",
              "      <td>37.08</td>\n",
              "      <td>6.93</td>\n",
              "      <td>NaN</td>\n",
              "    </tr>\n",
              "    <tr>\n",
              "      <th>4</th>\n",
              "      <td>1.26</td>\n",
              "      <td>-3.43</td>\n",
              "      <td>-35.64</td>\n",
              "      <td>-18.60</td>\n",
              "      <td>8.87</td>\n",
              "      <td>2</td>\n",
              "      <td>1.88</td>\n",
              "      <td>-60.01</td>\n",
              "      <td>-14.36</td>\n",
              "      <td>14.72</td>\n",
              "      <td>-1.12</td>\n",
              "      <td>117</td>\n",
              "      <td>0.67</td>\n",
              "      <td>38.58</td>\n",
              "      <td>8.18</td>\n",
              "      <td>NaN</td>\n",
              "    </tr>\n",
              "  </tbody>\n",
              "</table>\n",
              "</div>"
            ],
            "text/plain": [
              "      F1    F2     F3     F4     F5  F6  ...   F11  F12   F13    F14   F15  Class\n",
              "0  19.10  0.05 -50.64  -9.21  17.09  20  ... -5.48  900  5.45  10.38   NaN    NaN\n",
              "1  14.60  1.32 -50.64  -2.64  17.04  20  ... -6.28  585  7.20  13.14   NaN    NaN\n",
              "2  12.00  0.29 -80.64  -3.90  15.64  20  ... -4.79   45  5.05  13.38  7.33    NaN\n",
              "3   2.00 -5.10 -47.64 -25.92   8.10   2  ... -0.33  174  0.95  37.08  6.93    NaN\n",
              "4   1.26 -3.43 -35.64 -18.60   8.87   2  ... -1.12  117  0.67  38.58  8.18    NaN\n",
              "\n",
              "[5 rows x 16 columns]"
            ]
          },
          "metadata": {
            "tags": []
          },
          "execution_count": 23
        }
      ]
    },
    {
      "cell_type": "code",
      "metadata": {
        "id": "inP5x_IgY-hK"
      },
      "source": [
        "Test_data.drop(\"F15\", axis=1, inplace=True)"
      ],
      "execution_count": null,
      "outputs": []
    },
    {
      "cell_type": "code",
      "metadata": {
        "colab": {
          "base_uri": "https://localhost:8080/"
        },
        "id": "RZxFY72ZZXte",
        "outputId": "3eb0a1a1-6194-4367-e996-a0770ffa2fb5"
      },
      "source": [
        "#Assigning all features to x and target to y\n",
        "\n",
        "x_test_real = data.loc[:, data.columns != 'Class'].to_numpy()\n",
        "y = data.loc[:, 'Class'].to_numpy()\n",
        "print(x.shape, y.shape)"
      ],
      "execution_count": null,
      "outputs": [
        {
          "output_type": "stream",
          "text": [
            "(1500, 14) (1500,)\n"
          ],
          "name": "stdout"
        }
      ]
    },
    {
      "cell_type": "code",
      "metadata": {
        "colab": {
          "base_uri": "https://localhost:8080/"
        },
        "id": "m6uAsuwMZmmp",
        "outputId": "9aee165d-4c49-4d26-c073-d1b8a728b07e"
      },
      "source": [
        "classifier_lr = classifier_lr.fit(X_train, y_train.ravel())"
      ],
      "execution_count": null,
      "outputs": [
        {
          "output_type": "stream",
          "text": [
            "/usr/local/lib/python3.7/dist-packages/sklearn/model_selection/_search.py:823: FutureWarning: The parameter 'iid' is deprecated in 0.22 and will be removed in 0.24.\n",
            "  \"removed in 0.24.\", FutureWarning\n"
          ],
          "name": "stderr"
        }
      ]
    },
    {
      "cell_type": "code",
      "metadata": {
        "colab": {
          "base_uri": "https://localhost:8080/"
        },
        "id": "wIiHJpXRcLzP",
        "outputId": "aa0e4465-3132-4a05-b842-6926664f32e5"
      },
      "source": [
        "y_pred_real = classifier_lr.predict(x_test_real)\n",
        "accuracy_lr_test = accuracy_score(y, y_pred_real)\n",
        "print(\"Test set: \", accuracy_lr_test)"
      ],
      "execution_count": null,
      "outputs": [
        {
          "output_type": "stream",
          "text": [
            "Test set:  0.852\n"
          ],
          "name": "stdout"
        }
      ]
    },
    {
      "cell_type": "code",
      "metadata": {
        "colab": {
          "base_uri": "https://localhost:8080/"
        },
        "id": "BxfJbCAWcs83",
        "outputId": "c009bfb5-96e5-4e5c-cc00-2997cb856eb3"
      },
      "source": [
        "y_pred_real"
      ],
      "execution_count": null,
      "outputs": [
        {
          "output_type": "execute_result",
          "data": {
            "text/plain": [
              "array([False,  True, False, ..., False, False, False])"
            ]
          },
          "metadata": {
            "tags": []
          },
          "execution_count": 27
        }
      ]
    },
    {
      "cell_type": "code",
      "metadata": {
        "id": "uN9lfBUVdU-p"
      },
      "source": [
        "a = y_pred_real\n",
        "np.savetxt(\"predict_p2.csv\", a, delimiter=\",\")"
      ],
      "execution_count": null,
      "outputs": []
    }
  ]
}